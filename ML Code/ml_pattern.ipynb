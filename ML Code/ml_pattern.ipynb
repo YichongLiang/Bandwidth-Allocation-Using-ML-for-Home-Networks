{
 "cells": [
  {
   "cell_type": "code",
   "execution_count": 2,
   "metadata": {},
   "outputs": [],
   "source": [
    "import pandas as pd\n",
    "import numpy as np\n",
    "import matplotlib.pyplot as plt\n",
    "\n",
    "from sklearn.model_selection import train_test_split\n",
    "from sklearn.ensemble import RandomForestClassifier, RandomForestRegressor, GradientBoostingRegressor\n",
    "from sklearn.svm import SVC\n",
    "from sklearn.linear_model import LogisticRegression, LinearRegression\n",
    "from sklearn.metrics import classification_report, confusion_matrix, mean_squared_error, r2_score\n",
    "from sklearn.preprocessing import LabelEncoder, StandardScaler"
   ]
  },
  {
   "cell_type": "code",
   "execution_count": 3,
   "metadata": {},
   "outputs": [],
   "source": [
    "df1 = pd.read_csv(\"../Data/Day1-6 pattern/day_1_data.csv\")\n",
    "df2 = pd.read_csv(\"../Data/Day1-6 pattern/day_2_data.csv\")\n",
    "df3 = pd.read_csv(\"../Data/Day1-6 pattern/day_3_data.csv\")\n",
    "df4 = pd.read_csv(\"../Data/Day1-6 pattern/day_4_data.csv\")\n",
    "df5 = pd.read_csv(\"../Data/Day1-6 pattern/day_5_data.csv\")\n",
    "df6 = pd.read_csv(\"../Data/Day1-6 pattern/day_6_data.csv\")"
   ]
  },
  {
   "cell_type": "code",
   "execution_count": 4,
   "metadata": {},
   "outputs": [],
   "source": [
    "# Combine df\n",
    "dfs = pd.concat([df1, df2, df3, df4, df5, df6], ignore_index=True)\n",
    "\n",
    "# Extract time features\n",
    "dfs['Time'] = pd.to_timedelta(dfs['Time'])\n",
    "dfs['Hour'] = dfs['Time'].dt.total_seconds() / 3600.0\n"
   ]
  },
  {
   "cell_type": "code",
   "execution_count": 5,
   "metadata": {},
   "outputs": [],
   "source": [
    "\n",
    "bins = [0, 300, 800, 4000, 18000]\n",
    "labels = ['0-300', '301-800', '801-4000', '4001-18000']\n",
    "\n",
    "dfs['Length_Range'] = pd.cut(dfs['Length'], bins=bins, labels=labels)"
   ]
  },
  {
   "cell_type": "code",
   "execution_count": 6,
   "metadata": {},
   "outputs": [],
   "source": [
    "label_encoder = LabelEncoder()\n",
    "dfs['IP Address'] = label_encoder.fit_transform(dfs['IP Address'])  \n",
    "\n",
    "# Define features and target\n",
    "X = dfs[['Hour', 'IP Address']]  \n",
    "y_class = dfs[['Length_Range']]  \n",
    "    \n",
    "\n",
    "# Split the dataset\n",
    "X_train, X_test, y_train, y_test = train_test_split(X, y_class, test_size=0.2, random_state=42)\n"
   ]
  },
  {
   "cell_type": "code",
   "execution_count": 150,
   "metadata": {},
   "outputs": [
    {
     "data": {
      "text/html": [
       "<div>\n",
       "<style scoped>\n",
       "    .dataframe tbody tr th:only-of-type {\n",
       "        vertical-align: middle;\n",
       "    }\n",
       "\n",
       "    .dataframe tbody tr th {\n",
       "        vertical-align: top;\n",
       "    }\n",
       "\n",
       "    .dataframe thead th {\n",
       "        text-align: right;\n",
       "    }\n",
       "</style>\n",
       "<table border=\"1\" class=\"dataframe\">\n",
       "  <thead>\n",
       "    <tr style=\"text-align: right;\">\n",
       "      <th></th>\n",
       "      <th>Time</th>\n",
       "      <th>Device</th>\n",
       "      <th>IP Address</th>\n",
       "      <th>Length</th>\n",
       "      <th>Hour</th>\n",
       "      <th>Length_Range</th>\n",
       "    </tr>\n",
       "  </thead>\n",
       "  <tbody>\n",
       "    <tr>\n",
       "      <th>51014</th>\n",
       "      <td>0 days 22:59:51</td>\n",
       "      <td>Laptop</td>\n",
       "      <td>3</td>\n",
       "      <td>269</td>\n",
       "      <td>22.997500</td>\n",
       "      <td>0-300</td>\n",
       "    </tr>\n",
       "    <tr>\n",
       "      <th>51015</th>\n",
       "      <td>0 days 22:59:52</td>\n",
       "      <td>iphone</td>\n",
       "      <td>1</td>\n",
       "      <td>3044</td>\n",
       "      <td>22.997778</td>\n",
       "      <td>801-4000</td>\n",
       "    </tr>\n",
       "    <tr>\n",
       "      <th>51016</th>\n",
       "      <td>0 days 22:59:57</td>\n",
       "      <td>Laptop</td>\n",
       "      <td>3</td>\n",
       "      <td>215</td>\n",
       "      <td>22.999167</td>\n",
       "      <td>0-300</td>\n",
       "    </tr>\n",
       "    <tr>\n",
       "      <th>51017</th>\n",
       "      <td>0 days 22:59:58</td>\n",
       "      <td>Laptop</td>\n",
       "      <td>3</td>\n",
       "      <td>271</td>\n",
       "      <td>22.999444</td>\n",
       "      <td>0-300</td>\n",
       "    </tr>\n",
       "    <tr>\n",
       "      <th>51018</th>\n",
       "      <td>0 days 22:59:59</td>\n",
       "      <td>iphone</td>\n",
       "      <td>1</td>\n",
       "      <td>903</td>\n",
       "      <td>22.999722</td>\n",
       "      <td>801-4000</td>\n",
       "    </tr>\n",
       "  </tbody>\n",
       "</table>\n",
       "</div>"
      ],
      "text/plain": [
       "                 Time  Device  IP Address  Length       Hour Length_Range\n",
       "51014 0 days 22:59:51  Laptop           3     269  22.997500        0-300\n",
       "51015 0 days 22:59:52  iphone           1    3044  22.997778     801-4000\n",
       "51016 0 days 22:59:57  Laptop           3     215  22.999167        0-300\n",
       "51017 0 days 22:59:58  Laptop           3     271  22.999444        0-300\n",
       "51018 0 days 22:59:59  iphone           1     903  22.999722     801-4000"
      ]
     },
     "execution_count": 150,
     "metadata": {},
     "output_type": "execute_result"
    }
   ],
   "source": [
    "dfs.tail()"
   ]
  },
  {
   "cell_type": "markdown",
   "metadata": {},
   "source": [
    "**Classification**"
   ]
  },
  {
   "cell_type": "markdown",
   "metadata": {},
   "source": [
    "Random Forest Classifier"
   ]
  },
  {
   "cell_type": "code",
   "execution_count": 7,
   "metadata": {},
   "outputs": [
    {
     "name": "stderr",
     "output_type": "stream",
     "text": [
      "/Library/Frameworks/Python.framework/Versions/3.10/lib/python3.10/site-packages/sklearn/base.py:1151: DataConversionWarning: A column-vector y was passed when a 1d array was expected. Please change the shape of y to (n_samples,), for example using ravel().\n",
      "  return fit_method(estimator, *args, **kwargs)\n"
     ]
    },
    {
     "name": "stdout",
     "output_type": "stream",
     "text": [
      "              precision    recall  f1-score   support\n",
      "\n",
      "       0-300       1.00      1.00      1.00      2605\n",
      "     301-800       0.19      0.15      0.17       260\n",
      "    801-4000       0.97      0.98      0.97      7339\n",
      "\n",
      "    accuracy                           0.96     10204\n",
      "   macro avg       0.72      0.71      0.71     10204\n",
      "weighted avg       0.96      0.96      0.96     10204\n",
      "\n",
      "[[2605    0    0]\n",
      " [   0   38  222]\n",
      " [   0  158 7181]]\n"
     ]
    }
   ],
   "source": [
    "# Initialize Random Forest Classifier model\n",
    "rf_model = RandomForestClassifier()\n",
    "rf_model.fit(X_train, y_train)\n",
    "\n",
    "# Evaluate the models\n",
    "y_pred_rf = rf_model.predict(X_test)\n",
    "print(classification_report(y_test, y_pred_rf))\n",
    "print(confusion_matrix(y_test, y_pred_rf))\n",
    "report_rf = classification_report(y_test, y_pred_rf, output_dict=True)"
   ]
  },
  {
   "cell_type": "markdown",
   "metadata": {},
   "source": [
    "SVM "
   ]
  },
  {
   "cell_type": "code",
   "execution_count": 8,
   "metadata": {},
   "outputs": [
    {
     "name": "stderr",
     "output_type": "stream",
     "text": [
      "/Library/Frameworks/Python.framework/Versions/3.10/lib/python3.10/site-packages/sklearn/utils/validation.py:1184: DataConversionWarning: A column-vector y was passed when a 1d array was expected. Please change the shape of y to (n_samples, ), for example using ravel().\n",
      "  y = column_or_1d(y, warn=True)\n",
      "/Library/Frameworks/Python.framework/Versions/3.10/lib/python3.10/site-packages/sklearn/metrics/_classification.py:1469: UndefinedMetricWarning: Precision and F-score are ill-defined and being set to 0.0 in labels with no predicted samples. Use `zero_division` parameter to control this behavior.\n",
      "  _warn_prf(average, modifier, msg_start, len(result))\n",
      "/Library/Frameworks/Python.framework/Versions/3.10/lib/python3.10/site-packages/sklearn/metrics/_classification.py:1469: UndefinedMetricWarning: Precision and F-score are ill-defined and being set to 0.0 in labels with no predicted samples. Use `zero_division` parameter to control this behavior.\n",
      "  _warn_prf(average, modifier, msg_start, len(result))\n",
      "/Library/Frameworks/Python.framework/Versions/3.10/lib/python3.10/site-packages/sklearn/metrics/_classification.py:1469: UndefinedMetricWarning: Precision and F-score are ill-defined and being set to 0.0 in labels with no predicted samples. Use `zero_division` parameter to control this behavior.\n",
      "  _warn_prf(average, modifier, msg_start, len(result))\n"
     ]
    },
    {
     "name": "stdout",
     "output_type": "stream",
     "text": [
      "              precision    recall  f1-score   support\n",
      "\n",
      "       0-300       1.00      1.00      1.00      2605\n",
      "     301-800       0.00      0.00      0.00       260\n",
      "    801-4000       0.97      1.00      0.98      7339\n",
      "\n",
      "    accuracy                           0.97     10204\n",
      "   macro avg       0.66      0.67      0.66     10204\n",
      "weighted avg       0.95      0.97      0.96     10204\n",
      "\n",
      "[[2605    0    0]\n",
      " [   0    0  260]\n",
      " [   0    0 7339]]\n"
     ]
    },
    {
     "name": "stderr",
     "output_type": "stream",
     "text": [
      "/Library/Frameworks/Python.framework/Versions/3.10/lib/python3.10/site-packages/sklearn/metrics/_classification.py:1469: UndefinedMetricWarning: Precision and F-score are ill-defined and being set to 0.0 in labels with no predicted samples. Use `zero_division` parameter to control this behavior.\n",
      "  _warn_prf(average, modifier, msg_start, len(result))\n",
      "/Library/Frameworks/Python.framework/Versions/3.10/lib/python3.10/site-packages/sklearn/metrics/_classification.py:1469: UndefinedMetricWarning: Precision and F-score are ill-defined and being set to 0.0 in labels with no predicted samples. Use `zero_division` parameter to control this behavior.\n",
      "  _warn_prf(average, modifier, msg_start, len(result))\n",
      "/Library/Frameworks/Python.framework/Versions/3.10/lib/python3.10/site-packages/sklearn/metrics/_classification.py:1469: UndefinedMetricWarning: Precision and F-score are ill-defined and being set to 0.0 in labels with no predicted samples. Use `zero_division` parameter to control this behavior.\n",
      "  _warn_prf(average, modifier, msg_start, len(result))\n"
     ]
    }
   ],
   "source": [
    "# Initialize and train the SVM model\n",
    "svm_model = SVC(kernel='linear') \n",
    "svm_model.fit(X_train, y_train)\n",
    "\n",
    "# Evaluate the model\n",
    "y_pred_svm = svm_model.predict(X_test)\n",
    "print(classification_report(y_test, y_pred_svm))\n",
    "print(confusion_matrix(y_test, y_pred_svm))\n",
    "report_svm = classification_report(y_test, y_pred_svm, output_dict=True)"
   ]
  },
  {
   "cell_type": "markdown",
   "metadata": {},
   "source": [
    "Logistic Regression"
   ]
  },
  {
   "cell_type": "code",
   "execution_count": 9,
   "metadata": {},
   "outputs": [
    {
     "name": "stderr",
     "output_type": "stream",
     "text": [
      "/Library/Frameworks/Python.framework/Versions/3.10/lib/python3.10/site-packages/sklearn/utils/validation.py:1184: DataConversionWarning: A column-vector y was passed when a 1d array was expected. Please change the shape of y to (n_samples, ), for example using ravel().\n",
      "  y = column_or_1d(y, warn=True)\n",
      "/Library/Frameworks/Python.framework/Versions/3.10/lib/python3.10/site-packages/sklearn/metrics/_classification.py:1469: UndefinedMetricWarning: Precision and F-score are ill-defined and being set to 0.0 in labels with no predicted samples. Use `zero_division` parameter to control this behavior.\n",
      "  _warn_prf(average, modifier, msg_start, len(result))\n",
      "/Library/Frameworks/Python.framework/Versions/3.10/lib/python3.10/site-packages/sklearn/metrics/_classification.py:1469: UndefinedMetricWarning: Precision and F-score are ill-defined and being set to 0.0 in labels with no predicted samples. Use `zero_division` parameter to control this behavior.\n",
      "  _warn_prf(average, modifier, msg_start, len(result))\n",
      "/Library/Frameworks/Python.framework/Versions/3.10/lib/python3.10/site-packages/sklearn/metrics/_classification.py:1469: UndefinedMetricWarning: Precision and F-score are ill-defined and being set to 0.0 in labels with no predicted samples. Use `zero_division` parameter to control this behavior.\n",
      "  _warn_prf(average, modifier, msg_start, len(result))\n"
     ]
    },
    {
     "name": "stdout",
     "output_type": "stream",
     "text": [
      "              precision    recall  f1-score   support\n",
      "\n",
      "       0-300       1.00      1.00      1.00      2605\n",
      "     301-800       0.00      0.00      0.00       260\n",
      "    801-4000       0.97      1.00      0.98      7339\n",
      "\n",
      "    accuracy                           0.97     10204\n",
      "   macro avg       0.66      0.67      0.66     10204\n",
      "weighted avg       0.95      0.97      0.96     10204\n",
      "\n",
      "[[2605    0    0]\n",
      " [   0    0  260]\n",
      " [   0    0 7339]]\n"
     ]
    },
    {
     "name": "stderr",
     "output_type": "stream",
     "text": [
      "/Library/Frameworks/Python.framework/Versions/3.10/lib/python3.10/site-packages/sklearn/metrics/_classification.py:1469: UndefinedMetricWarning: Precision and F-score are ill-defined and being set to 0.0 in labels with no predicted samples. Use `zero_division` parameter to control this behavior.\n",
      "  _warn_prf(average, modifier, msg_start, len(result))\n",
      "/Library/Frameworks/Python.framework/Versions/3.10/lib/python3.10/site-packages/sklearn/metrics/_classification.py:1469: UndefinedMetricWarning: Precision and F-score are ill-defined and being set to 0.0 in labels with no predicted samples. Use `zero_division` parameter to control this behavior.\n",
      "  _warn_prf(average, modifier, msg_start, len(result))\n",
      "/Library/Frameworks/Python.framework/Versions/3.10/lib/python3.10/site-packages/sklearn/metrics/_classification.py:1469: UndefinedMetricWarning: Precision and F-score are ill-defined and being set to 0.0 in labels with no predicted samples. Use `zero_division` parameter to control this behavior.\n",
      "  _warn_prf(average, modifier, msg_start, len(result))\n"
     ]
    }
   ],
   "source": [
    "# Initialize and train the Logistic Regression model\n",
    "log_reg = LogisticRegression(multi_class='ovr')  # 'ovr' for One-vs-Rest strategy\n",
    "log_reg.fit(X_train, y_train)\n",
    "\n",
    "# Evaluate the model\n",
    "y_pred_lr = log_reg.predict(X_test)\n",
    "print(classification_report(y_test, y_pred_lr))\n",
    "print(confusion_matrix(y_test, y_pred_lr))\n",
    "report_lr = classification_report(y_test, y_pred_lr, output_dict=True)"
   ]
  },
  {
   "cell_type": "code",
   "execution_count": 10,
   "metadata": {},
   "outputs": [
    {
     "data": {
      "image/png": "[encoded data removed]",
      "text/plain": [
       "<Figure size 640x480 with 1 Axes>"
      ]
     },
     "metadata": {},
     "output_type": "display_data"
    }
   ],
   "source": [
    "\n",
    "\n",
    "# Assuming report_rf, report_svm, report_lr are dictionaries with F1 scores for models\n",
    "# Example structure: {'0-300': {'f1-score': 0.9}, '301-800': {'f1-score': 0.8}, ...}\n",
    "\n",
    "categories = ['0-300', '301-800', '801-4000']\n",
    "f1_scores_by_model = {'Random Forest': [], 'SVM': [], 'Logistic': []}\n",
    "\n",
    "# Fill the scores for each model\n",
    "for category in categories:\n",
    "    f1_scores_by_model['Random Forest'].append(report_rf[category]['f1-score'])\n",
    "    f1_scores_by_model['SVM'].append(report_svm[category]['f1-score'])\n",
    "    f1_scores_by_model['Logistic'].append(report_lr[category]['f1-score'])\n",
    "\n",
    "# Number of groups and bar width\n",
    "n_groups = len(categories)\n",
    "bar_width = 0.2\n",
    "\n",
    "# Create plot\n",
    "fig, ax = plt.subplots()\n",
    "index = np.arange(n_groups)\n",
    "\n",
    "# Plotting each set of bars for each model\n",
    "for i, (model_name, scores) in enumerate(f1_scores_by_model.items()):\n",
    "    ax.bar(index + i * bar_width, scores, bar_width, label=model_name)\n",
    "\n",
    "# Set labels, title, and ticks\n",
    "ax.set_xlabel('Category')\n",
    "ax.set_ylabel('F1-Score')\n",
    "ax.set_title('F1-Score by Model (Pattern)')\n",
    "ax.set_xticks(index + bar_width)\n",
    "ax.set_xticklabels(categories)\n",
    "\n",
    "# Add legend\n",
    "ax.legend(title=\"Model\")\n",
    "\n",
    "# Other plot settings\n",
    "plt.tight_layout()\n",
    "plt.show()\n"
   ]
  },
  {
   "cell_type": "markdown",
   "metadata": {},
   "source": []
  },
  {
   "cell_type": "markdown",
   "metadata": {},
   "source": []
  },
  {
   "cell_type": "markdown",
   "metadata": {},
   "source": [
    "**NS3 Simulation Results**"
   ]
  },
  {
   "cell_type": "code",
   "execution_count": 178,
   "metadata": {},
   "outputs": [],
   "source": [
    "df_p = pd.read_csv(\"../Data/NS3 Data/pattern.csv\") #5:52pm - 6:07pm   6:00pm - 6:07pm\n",
    "df_pa = pd.read_csv(\"../Data/NS3 Data/pattern_alloc.csv\") "
   ]
  },
  {
   "cell_type": "markdown",
   "metadata": {},
   "source": [
    "No Allocation Latency"
   ]
  },
  {
   "cell_type": "code",
   "execution_count": 179,
   "metadata": {},
   "outputs": [],
   "source": [
    "df_p['Time'] = pd.to_timedelta(df_p['Time'], unit='s')\n",
    "df_p['Time'] += pd.Timedelta(hours=17, minutes=52)\n",
    "df_p['Hour'] = df_p['Time'].dt.total_seconds() / 3600.0"
   ]
  },
  {
   "cell_type": "code",
   "execution_count": 180,
   "metadata": {},
   "outputs": [
    {
     "data": {
      "text/html": [
       "<div>\n",
       "<style scoped>\n",
       "    .dataframe tbody tr th:only-of-type {\n",
       "        vertical-align: middle;\n",
       "    }\n",
       "\n",
       "    .dataframe tbody tr th {\n",
       "        vertical-align: top;\n",
       "    }\n",
       "\n",
       "    .dataframe thead th {\n",
       "        text-align: right;\n",
       "    }\n",
       "</style>\n",
       "<table border=\"1\" class=\"dataframe\">\n",
       "  <thead>\n",
       "    <tr style=\"text-align: right;\">\n",
       "      <th></th>\n",
       "      <th>No.</th>\n",
       "      <th>Time</th>\n",
       "      <th>Source</th>\n",
       "      <th>Destination</th>\n",
       "      <th>Protocol</th>\n",
       "      <th>Length</th>\n",
       "      <th>Data rate (Mb/s)</th>\n",
       "      <th>Info</th>\n",
       "      <th>Bandwidth</th>\n",
       "      <th>Hour</th>\n",
       "    </tr>\n",
       "  </thead>\n",
       "  <tbody>\n",
       "    <tr>\n",
       "      <th>0</th>\n",
       "      <td>1</td>\n",
       "      <td>0 days 17:52:00</td>\n",
       "      <td>00:00:00_00:00:03</td>\n",
       "      <td>Broadcast</td>\n",
       "      <td>802.11</td>\n",
       "      <td>60</td>\n",
       "      <td>NaN</td>\n",
       "      <td>Beacon frame, SN=0, FN=0, Flags=........, BI=1...</td>\n",
       "      <td>60</td>\n",
       "      <td>17.866667</td>\n",
       "    </tr>\n",
       "    <tr>\n",
       "      <th>1</th>\n",
       "      <td>2</td>\n",
       "      <td>0 days 17:52:00.101427</td>\n",
       "      <td>00:00:00_00:00:05</td>\n",
       "      <td>00:00:00_00:00:03</td>\n",
       "      <td>802.11</td>\n",
       "      <td>49</td>\n",
       "      <td>NaN</td>\n",
       "      <td>Association Request, SN=0, FN=0, Flags=..........</td>\n",
       "      <td>49</td>\n",
       "      <td>17.866695</td>\n",
       "    </tr>\n",
       "    <tr>\n",
       "      <th>2</th>\n",
       "      <td>3</td>\n",
       "      <td>0 days 17:52:00.102713</td>\n",
       "      <td>00:00:00_00:00:03</td>\n",
       "      <td>Broadcast</td>\n",
       "      <td>802.11</td>\n",
       "      <td>60</td>\n",
       "      <td>NaN</td>\n",
       "      <td>Beacon frame, SN=1, FN=0, Flags=........, BI=1...</td>\n",
       "      <td>60</td>\n",
       "      <td>17.866695</td>\n",
       "    </tr>\n",
       "    <tr>\n",
       "      <th>3</th>\n",
       "      <td>4</td>\n",
       "      <td>0 days 17:52:00.102963</td>\n",
       "      <td>00:00:00_00:00:05</td>\n",
       "      <td>00:00:00_00:00:03</td>\n",
       "      <td>802.11</td>\n",
       "      <td>49</td>\n",
       "      <td>NaN</td>\n",
       "      <td>Association Request, SN=0, FN=0, Flags=....R.....</td>\n",
       "      <td>49</td>\n",
       "      <td>17.866695</td>\n",
       "    </tr>\n",
       "    <tr>\n",
       "      <th>4</th>\n",
       "      <td>5</td>\n",
       "      <td>0 days 17:52:00.103861</td>\n",
       "      <td>NaN</td>\n",
       "      <td>00:00:00_00:00:05 (00:00:00:00:00:05) (RA)</td>\n",
       "      <td>802.11</td>\n",
       "      <td>14</td>\n",
       "      <td>NaN</td>\n",
       "      <td>Acknowledgement, Flags=........</td>\n",
       "      <td>14</td>\n",
       "      <td>17.866696</td>\n",
       "    </tr>\n",
       "  </tbody>\n",
       "</table>\n",
       "</div>"
      ],
      "text/plain": [
       "   No.                   Time             Source  \\\n",
       "0    1        0 days 17:52:00  00:00:00_00:00:03   \n",
       "1    2 0 days 17:52:00.101427  00:00:00_00:00:05   \n",
       "2    3 0 days 17:52:00.102713  00:00:00_00:00:03   \n",
       "3    4 0 days 17:52:00.102963  00:00:00_00:00:05   \n",
       "4    5 0 days 17:52:00.103861                NaN   \n",
       "\n",
       "                                  Destination Protocol  Length  \\\n",
       "0                                   Broadcast   802.11      60   \n",
       "1                           00:00:00_00:00:03   802.11      49   \n",
       "2                                   Broadcast   802.11      60   \n",
       "3                           00:00:00_00:00:03   802.11      49   \n",
       "4  00:00:00_00:00:05 (00:00:00:00:00:05) (RA)   802.11      14   \n",
       "\n",
       "   Data rate (Mb/s)                                               Info  \\\n",
       "0               NaN  Beacon frame, SN=0, FN=0, Flags=........, BI=1...   \n",
       "1               NaN  Association Request, SN=0, FN=0, Flags=..........   \n",
       "2               NaN  Beacon frame, SN=1, FN=0, Flags=........, BI=1...   \n",
       "3               NaN  Association Request, SN=0, FN=0, Flags=....R.....   \n",
       "4               NaN                    Acknowledgement, Flags=........   \n",
       "\n",
       "   Bandwidth       Hour  \n",
       "0         60  17.866667  \n",
       "1         49  17.866695  \n",
       "2         60  17.866695  \n",
       "3         49  17.866695  \n",
       "4         14  17.866696  "
      ]
     },
     "execution_count": 180,
     "metadata": {},
     "output_type": "execute_result"
    }
   ],
   "source": [
    "df_p.head()"
   ]
  },
  {
   "cell_type": "code",
   "execution_count": 181,
   "metadata": {},
   "outputs": [],
   "source": [
    "info1 = ['49153  >  9 Len=1024', '9  >  49153 Len=1024']\n",
    "info2 = ['49153  >  9 Len=2048', '9  >  49153 Len=2048']\n",
    "df_lat1 = df_p[(df_p['Info'].isin(info1))]\n",
    "df_lat2 = df_p[(df_p['Info'].isin(info2))]\n",
    "timestamp1 = list(df_lat1['Hour'])\n",
    "timestamp2 = list(df_lat2['Hour'])"
   ]
  },
  {
   "cell_type": "code",
   "execution_count": 182,
   "metadata": {},
   "outputs": [],
   "source": [
    "latency1 = timestamp1[1] - timestamp1[0]\n",
    "latency2 = timestamp2[1] - timestamp2[0]\n",
    "latency1 = abs(latency1)*3600\n",
    "latency2 = abs(latency2)*3600"
   ]
  },
  {
   "cell_type": "code",
   "execution_count": 183,
   "metadata": {},
   "outputs": [
    {
     "name": "stdout",
     "output_type": "stream",
     "text": [
      "0.012706000002538076\n",
      "\n",
      "\n",
      "0.004754000009654646\n"
     ]
    }
   ],
   "source": [
    "print(latency1)\n",
    "print('\\n')\n",
    "print(latency2)"
   ]
  },
  {
   "cell_type": "markdown",
   "metadata": {},
   "source": [
    "With Allocation Latency"
   ]
  },
  {
   "cell_type": "code",
   "execution_count": 184,
   "metadata": {},
   "outputs": [],
   "source": [
    "df_pa['Time'] = pd.to_timedelta(df_pa['Time'], unit='s')\n",
    "df_pa['Time'] += pd.Timedelta(hours=17, minutes=52)\n",
    "df_pa['Hour'] = df_pa['Time'].dt.total_seconds() / 3600.0"
   ]
  },
  {
   "cell_type": "code",
   "execution_count": 185,
   "metadata": {},
   "outputs": [],
   "source": [
    "df_lata1 = df_pa[(df_pa['Info'].isin(info1))]\n",
    "df_lata2 = df_pa[(df_pa['Info'].isin(info2))]\n",
    "timestampa1 = list(df_lata1['Hour'])\n",
    "timestampa2 = list(df_lata2['Hour'])"
   ]
  },
  {
   "cell_type": "code",
   "execution_count": 186,
   "metadata": {},
   "outputs": [],
   "source": [
    "latencya1 = timestampa1[1] - timestampa1[0]\n",
    "latencya2 = timestampa2[1] - timestampa2[0]\n",
    "latencya1 = abs(latencya1)*3600\n",
    "latencya2 = abs(latencya2)*3600"
   ]
  },
  {
   "cell_type": "code",
   "execution_count": 187,
   "metadata": {},
   "outputs": [
    {
     "name": "stdout",
     "output_type": "stream",
     "text": [
      "0.005055000002585075\n",
      "\n",
      "\n",
      "0.004304000010790787\n"
     ]
    }
   ],
   "source": [
    "print(latencya1)\n",
    "print('\\n')\n",
    "print(latencya2)"
   ]
  },
  {
   "cell_type": "markdown",
   "metadata": {},
   "source": [
    "ML Predcition From Given Device & Time "
   ]
  },
  {
   "cell_type": "code",
   "execution_count": 138,
   "metadata": {},
   "outputs": [],
   "source": [
    "df_pa = pd.read_csv(\"../Data/NS3 Data/pattern_alloc.csv\") \n",
    "df_pa['Time'] = pd.to_timedelta(df_pa['Time'], unit='s')\n",
    "df_pa['Time'] += pd.Timedelta(hours=17, minutes=52)\n",
    "df_pa['Hour'] = df_pa['Time'].dt.total_seconds() / 3600.0"
   ]
  },
  {
   "cell_type": "code",
   "execution_count": 141,
   "metadata": {},
   "outputs": [
    {
     "data": {
      "text/html": [
       "<div>\n",
       "<style scoped>\n",
       "    .dataframe tbody tr th:only-of-type {\n",
       "        vertical-align: middle;\n",
       "    }\n",
       "\n",
       "    .dataframe tbody tr th {\n",
       "        vertical-align: top;\n",
       "    }\n",
       "\n",
       "    .dataframe thead th {\n",
       "        text-align: right;\n",
       "    }\n",
       "</style>\n",
       "<table border=\"1\" class=\"dataframe\">\n",
       "  <thead>\n",
       "    <tr style=\"text-align: right;\">\n",
       "      <th></th>\n",
       "      <th>No.</th>\n",
       "      <th>Time</th>\n",
       "      <th>Source</th>\n",
       "      <th>Destination</th>\n",
       "      <th>Protocol</th>\n",
       "      <th>Length</th>\n",
       "      <th>Data rate (Mb/s)</th>\n",
       "      <th>Info</th>\n",
       "      <th>Bandwidth</th>\n",
       "      <th>Hour</th>\n",
       "    </tr>\n",
       "  </thead>\n",
       "  <tbody>\n",
       "    <tr>\n",
       "      <th>0</th>\n",
       "      <td>1</td>\n",
       "      <td>0 days 17:52:00</td>\n",
       "      <td>00:00:00_00:00:03</td>\n",
       "      <td>Broadcast</td>\n",
       "      <td>802.11</td>\n",
       "      <td>60</td>\n",
       "      <td>NaN</td>\n",
       "      <td>Beacon frame, SN=0, FN=0, Flags=........, BI=1...</td>\n",
       "      <td>60</td>\n",
       "      <td>17.866667</td>\n",
       "    </tr>\n",
       "    <tr>\n",
       "      <th>1</th>\n",
       "      <td>2</td>\n",
       "      <td>0 days 17:52:00.101427</td>\n",
       "      <td>00:00:00_00:00:05</td>\n",
       "      <td>00:00:00_00:00:03</td>\n",
       "      <td>802.11</td>\n",
       "      <td>49</td>\n",
       "      <td>NaN</td>\n",
       "      <td>Association Request, SN=0, FN=0, Flags=..........</td>\n",
       "      <td>49</td>\n",
       "      <td>17.866695</td>\n",
       "    </tr>\n",
       "    <tr>\n",
       "      <th>2</th>\n",
       "      <td>3</td>\n",
       "      <td>0 days 17:52:00.102713</td>\n",
       "      <td>00:00:00_00:00:03</td>\n",
       "      <td>Broadcast</td>\n",
       "      <td>802.11</td>\n",
       "      <td>60</td>\n",
       "      <td>NaN</td>\n",
       "      <td>Beacon frame, SN=1, FN=0, Flags=........, BI=1...</td>\n",
       "      <td>60</td>\n",
       "      <td>17.866695</td>\n",
       "    </tr>\n",
       "    <tr>\n",
       "      <th>3</th>\n",
       "      <td>4</td>\n",
       "      <td>0 days 17:52:00.102963</td>\n",
       "      <td>00:00:00_00:00:05</td>\n",
       "      <td>00:00:00_00:00:03</td>\n",
       "      <td>802.11</td>\n",
       "      <td>49</td>\n",
       "      <td>NaN</td>\n",
       "      <td>Association Request, SN=0, FN=0, Flags=....R.....</td>\n",
       "      <td>49</td>\n",
       "      <td>17.866695</td>\n",
       "    </tr>\n",
       "    <tr>\n",
       "      <th>4</th>\n",
       "      <td>5</td>\n",
       "      <td>0 days 17:52:00.103861</td>\n",
       "      <td>NaN</td>\n",
       "      <td>00:00:00_00:00:05 (00:00:00:00:00:05) (RA)</td>\n",
       "      <td>802.11</td>\n",
       "      <td>14</td>\n",
       "      <td>NaN</td>\n",
       "      <td>Acknowledgement, Flags=........</td>\n",
       "      <td>14</td>\n",
       "      <td>17.866696</td>\n",
       "    </tr>\n",
       "  </tbody>\n",
       "</table>\n",
       "</div>"
      ],
      "text/plain": [
       "   No.                   Time             Source  \\\n",
       "0    1        0 days 17:52:00  00:00:00_00:00:03   \n",
       "1    2 0 days 17:52:00.101427  00:00:00_00:00:05   \n",
       "2    3 0 days 17:52:00.102713  00:00:00_00:00:03   \n",
       "3    4 0 days 17:52:00.102963  00:00:00_00:00:05   \n",
       "4    5 0 days 17:52:00.103861                NaN   \n",
       "\n",
       "                                  Destination Protocol  Length  \\\n",
       "0                                   Broadcast   802.11      60   \n",
       "1                           00:00:00_00:00:03   802.11      49   \n",
       "2                                   Broadcast   802.11      60   \n",
       "3                           00:00:00_00:00:03   802.11      49   \n",
       "4  00:00:00_00:00:05 (00:00:00:00:00:05) (RA)   802.11      14   \n",
       "\n",
       "   Data rate (Mb/s)                                               Info  \\\n",
       "0               NaN  Beacon frame, SN=0, FN=0, Flags=........, BI=1...   \n",
       "1               NaN  Association Request, SN=0, FN=0, Flags=..........   \n",
       "2               NaN  Beacon frame, SN=1, FN=0, Flags=........, BI=1...   \n",
       "3               NaN  Association Request, SN=0, FN=0, Flags=....R.....   \n",
       "4               NaN                    Acknowledgement, Flags=........   \n",
       "\n",
       "   Bandwidth       Hour  \n",
       "0         60  17.866667  \n",
       "1         49  17.866695  \n",
       "2         60  17.866695  \n",
       "3         49  17.866695  \n",
       "4         14  17.866696  "
      ]
     },
     "execution_count": 141,
     "metadata": {},
     "output_type": "execute_result"
    }
   ],
   "source": [
    "df_pa.head()"
   ]
  },
  {
   "cell_type": "code",
   "execution_count": 144,
   "metadata": {},
   "outputs": [],
   "source": [
    "ip_addresses = ['192.168.239.5', '192.168.239.4']\n",
    "df_pa = df_pa[(df_pa['Destination'].isin(ip_addresses))]"
   ]
  },
  {
   "cell_type": "code",
   "execution_count": 148,
   "metadata": {},
   "outputs": [],
   "source": [
    "df_pa_c = pd.DataFrame(columns=['Hour','IP Address','Length'])\n",
    "df_pa_c['IP Address'] = df_pa['Destination']\n",
    "df_pa_c['Hour'] = df_pa['Hour']\n",
    "df_pa_c['Length'] = df_pa['Length']\n"
   ]
  },
  {
   "cell_type": "code",
   "execution_count": 153,
   "metadata": {},
   "outputs": [],
   "source": [
    "bins = [0, 300, 800, 4000, 18000]\n",
    "labels = ['0-300', '301-800', '801-4000', '4001-18000']\n",
    "\n",
    "df_pa_c['Length_Range'] = pd.cut(df_pa_c['Length'], bins=bins, labels=labels)\n",
    "df_pa_c['IP Address'] = df_pa_c['IP Address'].replace({'192.168.239.5': 2, '192.168.239.4': 4})\n",
    "\n",
    "X_val = df_pa_c[['Hour','IP Address']]\n",
    "y_val = df_pa_c[['Length_Range']]  "
   ]
  },
  {
   "cell_type": "code",
   "execution_count": 154,
   "metadata": {},
   "outputs": [
    {
     "name": "stdout",
     "output_type": "stream",
     "text": [
      "              precision    recall  f1-score   support\n",
      "\n",
      "       0-300       0.00      0.00      0.00         0\n",
      "     301-800       0.00      0.00      0.00         0\n",
      "    801-4000       1.00      0.59      0.75      1319\n",
      "\n",
      "    accuracy                           0.59      1319\n",
      "   macro avg       0.33      0.20      0.25      1319\n",
      "weighted avg       1.00      0.59      0.75      1319\n",
      "\n",
      "[[  0   0   0]\n",
      " [  0   0   0]\n",
      " [420 115 784]]\n"
     ]
    },
    {
     "name": "stderr",
     "output_type": "stream",
     "text": [
      "/Library/Frameworks/Python.framework/Versions/3.10/lib/python3.10/site-packages/sklearn/metrics/_classification.py:1469: UndefinedMetricWarning: Recall and F-score are ill-defined and being set to 0.0 in labels with no true samples. Use `zero_division` parameter to control this behavior.\n",
      "  _warn_prf(average, modifier, msg_start, len(result))\n",
      "/Library/Frameworks/Python.framework/Versions/3.10/lib/python3.10/site-packages/sklearn/metrics/_classification.py:1469: UndefinedMetricWarning: Recall and F-score are ill-defined and being set to 0.0 in labels with no true samples. Use `zero_division` parameter to control this behavior.\n",
      "  _warn_prf(average, modifier, msg_start, len(result))\n",
      "/Library/Frameworks/Python.framework/Versions/3.10/lib/python3.10/site-packages/sklearn/metrics/_classification.py:1469: UndefinedMetricWarning: Recall and F-score are ill-defined and being set to 0.0 in labels with no true samples. Use `zero_division` parameter to control this behavior.\n",
      "  _warn_prf(average, modifier, msg_start, len(result))\n",
      "/Library/Frameworks/Python.framework/Versions/3.10/lib/python3.10/site-packages/sklearn/metrics/_classification.py:1469: UndefinedMetricWarning: Recall and F-score are ill-defined and being set to 0.0 in labels with no true samples. Use `zero_division` parameter to control this behavior.\n",
      "  _warn_prf(average, modifier, msg_start, len(result))\n",
      "/Library/Frameworks/Python.framework/Versions/3.10/lib/python3.10/site-packages/sklearn/metrics/_classification.py:1469: UndefinedMetricWarning: Recall and F-score are ill-defined and being set to 0.0 in labels with no true samples. Use `zero_division` parameter to control this behavior.\n",
      "  _warn_prf(average, modifier, msg_start, len(result))\n",
      "/Library/Frameworks/Python.framework/Versions/3.10/lib/python3.10/site-packages/sklearn/metrics/_classification.py:1469: UndefinedMetricWarning: Recall and F-score are ill-defined and being set to 0.0 in labels with no true samples. Use `zero_division` parameter to control this behavior.\n",
      "  _warn_prf(average, modifier, msg_start, len(result))\n"
     ]
    }
   ],
   "source": [
    "y_val_rf = rf_model.predict(X_val)\n",
    "print(classification_report(y_val, y_val_rf))\n",
    "print(confusion_matrix(y_val, y_val_rf))\n",
    "report_val_rf = classification_report(y_val, y_val_rf, output_dict=True)"
   ]
  }
 ],
 "metadata": {
  "kernelspec": {
   "display_name": "Python 3",
   "language": "python",
   "name": "python3"
  },
  "language_info": {
   "codemirror_mode": {
    "name": "ipython",
    "version": 3
   },
   "file_extension": ".py",
   "mimetype": "text/x-python",
   "name": "python",
   "nbconvert_exporter": "python",
   "pygments_lexer": "ipython3",
   "version": "3.10.11"
  }
 },
 "nbformat": 4,
 "nbformat_minor": 2
}
