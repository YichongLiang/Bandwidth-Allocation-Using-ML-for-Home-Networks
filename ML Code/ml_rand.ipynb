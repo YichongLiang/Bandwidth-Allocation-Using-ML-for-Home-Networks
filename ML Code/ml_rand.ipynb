{
 "cells": [
  {
   "cell_type": "code",
   "execution_count": 1,
   "id": "6f4fc020-6b6c-4f3e-8cf7-14badea4fa46",
   "metadata": {},
   "outputs": [],
   "source": [
    "import pandas as pd\n",
    "import numpy as np\n",
    "import matplotlib.pyplot as plt\n",
    "\n",
    "from sklearn.model_selection import train_test_split\n",
    "from sklearn.ensemble import RandomForestClassifier, RandomForestRegressor, GradientBoostingRegressor\n",
    "from sklearn.svm import SVC\n",
    "from sklearn.linear_model import LogisticRegression, LinearRegression\n",
    "from sklearn.metrics import classification_report, confusion_matrix, mean_squared_error, r2_score\n",
    "from sklearn.preprocessing import LabelEncoder, StandardScaler\n"
   ]
  },
  {
   "cell_type": "code",
   "execution_count": 2,
   "id": "8a11a9a5-5aa0-41e8-9d54-fec9eccd4d27",
   "metadata": {},
   "outputs": [],
   "source": [
    "df1 = pd.read_csv(\"../Data/Day1-6 data/day_1.csv\")\n",
    "df2 = pd.read_csv(\"../Data/Day1-6 data/day_2.csv\")\n",
    "df3 = pd.read_csv(\"../Data/Day1-6 data/day_3.csv\")\n",
    "df4 = pd.read_csv(\"../Data/Day1-6 data/day_4.csv\")\n",
    "df5 = pd.read_csv(\"../Data/Day1-6 data/day_5.csv\")\n",
    "df6 = pd.read_csv(\"../Data/Day1-6 data/day_6.csv\")"
   ]
  },
  {
   "cell_type": "code",
   "execution_count": 3,
   "id": "f7192035-532b-42f9-97cc-80b803445aab",
   "metadata": {},
   "outputs": [],
   "source": [
    "# Combine df\n",
    "dfs = pd.concat([df1, df2, df3, df4, df5, df6], ignore_index=True)\n",
    "\n",
    "# Extract time features\n",
    "dfs['Time'] = pd.to_timedelta(dfs['Time'])\n",
    "dfs['Hour'] = dfs['Time'].dt.total_seconds() / 3600.0\n",
    "\n"
   ]
  },
  {
   "cell_type": "code",
   "execution_count": 4,
   "metadata": {},
   "outputs": [],
   "source": [
    "dfs['Length'].max()\n",
    "\n",
    "bins = [0, 300, 800, 4000, 18000]\n",
    "labels = ['0-300', '301-800', '801-4000', '4001-18000']\n",
    "dfs['Length_Range'] = pd.cut(dfs['Length'], bins=bins, labels=labels)\n"
   ]
  },
  {
   "cell_type": "code",
   "execution_count": 5,
   "id": "bfc18507-d55d-4df2-93ac-9c8e1a503686",
   "metadata": {},
   "outputs": [],
   "source": [
    "label_encoder = LabelEncoder()\n",
    "dfs['Device IP'] = label_encoder.fit_transform(dfs['Device IP'])  \n",
    "\n",
    "# Define features and target\n",
    "X = dfs[['Hour', 'Device IP']]  \n",
    "y_class = dfs[['Length_Range']]\n",
    "y_regress = dfs[['Length']]\n",
    "\n",
    "# Split the dataset\n",
    "X_train, X_test, y_train, y_test = train_test_split(X, y_class, test_size=0.2, random_state=42)\n",
    "X_train, X_test, y_reg_train, y_reg_test = train_test_split(X, y_regress, test_size=0.2, random_state=42)\n",
    "\n"
   ]
  },
  {
   "cell_type": "markdown",
   "metadata": {},
   "source": []
  },
  {
   "cell_type": "markdown",
   "metadata": {},
   "source": [
    "**Classification**"
   ]
  },
  {
   "cell_type": "markdown",
   "metadata": {},
   "source": [
    "Random Forest Classifier"
   ]
  },
  {
   "cell_type": "code",
   "execution_count": 6,
   "id": "5f84850f-d242-45f4-847a-496aefe6638e",
   "metadata": {},
   "outputs": [
    {
     "name": "stderr",
     "output_type": "stream",
     "text": [
      "/Library/Frameworks/Python.framework/Versions/3.10/lib/python3.10/site-packages/sklearn/base.py:1151: DataConversionWarning: A column-vector y was passed when a 1d array was expected. Please change the shape of y to (n_samples,), for example using ravel().\n",
      "  return fit_method(estimator, *args, **kwargs)\n"
     ]
    },
    {
     "name": "stdout",
     "output_type": "stream",
     "text": [
      "              precision    recall  f1-score   support\n",
      "\n",
      "       0-300       0.73      0.72      0.72     15390\n",
      "     301-800       0.14      0.13      0.13      1126\n",
      "  4001-18000       0.30      0.23      0.26       233\n",
      "    801-4000       0.44      0.46      0.45      6668\n",
      "\n",
      "    accuracy                           0.61     23417\n",
      "   macro avg       0.40      0.38      0.39     23417\n",
      "weighted avg       0.61      0.61      0.61     23417\n",
      "\n",
      "[[11101   666    58  3565]\n",
      " [  717   141     5   263]\n",
      " [  132     0    54    47]\n",
      " [ 3345   184    61  3078]]\n"
     ]
    }
   ],
   "source": [
    "# Initialize Random Forest Classifier model\n",
    "rf_model = RandomForestClassifier()\n",
    "rf_model.fit(X_train, y_train)\n",
    "\n",
    "# Evaluate the models\n",
    "y_pred_rf = rf_model.predict(X_test)\n",
    "print(classification_report(y_test, y_pred_rf))\n",
    "print(confusion_matrix(y_test, y_pred_rf))\n",
    "report_rf = classification_report(y_test, y_pred_rf, output_dict=True)"
   ]
  },
  {
   "cell_type": "markdown",
   "metadata": {},
   "source": [
    "SVM (Don't Use)"
   ]
  },
  {
   "cell_type": "code",
   "execution_count": 18,
   "metadata": {},
   "outputs": [
    {
     "name": "stderr",
     "output_type": "stream",
     "text": [
      "/Library/Frameworks/Python.framework/Versions/3.10/lib/python3.10/site-packages/sklearn/utils/validation.py:1184: DataConversionWarning: A column-vector y was passed when a 1d array was expected. Please change the shape of y to (n_samples, ), for example using ravel().\n",
      "  y = column_or_1d(y, warn=True)\n",
      "/Library/Frameworks/Python.framework/Versions/3.10/lib/python3.10/site-packages/sklearn/metrics/_classification.py:1469: UndefinedMetricWarning: Precision and F-score are ill-defined and being set to 0.0 in labels with no predicted samples. Use `zero_division` parameter to control this behavior.\n",
      "  _warn_prf(average, modifier, msg_start, len(result))\n",
      "/Library/Frameworks/Python.framework/Versions/3.10/lib/python3.10/site-packages/sklearn/metrics/_classification.py:1469: UndefinedMetricWarning: Precision and F-score are ill-defined and being set to 0.0 in labels with no predicted samples. Use `zero_division` parameter to control this behavior.\n",
      "  _warn_prf(average, modifier, msg_start, len(result))\n",
      "/Library/Frameworks/Python.framework/Versions/3.10/lib/python3.10/site-packages/sklearn/metrics/_classification.py:1469: UndefinedMetricWarning: Precision and F-score are ill-defined and being set to 0.0 in labels with no predicted samples. Use `zero_division` parameter to control this behavior.\n",
      "  _warn_prf(average, modifier, msg_start, len(result))\n"
     ]
    },
    {
     "name": "stdout",
     "output_type": "stream",
     "text": [
      "              precision    recall  f1-score   support\n",
      "\n",
      "       0-100       0.50      1.00      0.66     11607\n",
      "     101-500       0.00      0.00      0.00      4355\n",
      "  4001-18000       0.00      0.00      0.00       233\n",
      "    501-4000       0.00      0.00      0.00      7222\n",
      "\n",
      "    accuracy                           0.50     23417\n",
      "   macro avg       0.12      0.25      0.17     23417\n",
      "weighted avg       0.25      0.50      0.33     23417\n",
      "\n",
      "[[11607     0     0     0]\n",
      " [ 4355     0     0     0]\n",
      " [  233     0     0     0]\n",
      " [ 7222     0     0     0]]\n"
     ]
    },
    {
     "name": "stderr",
     "output_type": "stream",
     "text": [
      "/Library/Frameworks/Python.framework/Versions/3.10/lib/python3.10/site-packages/sklearn/metrics/_classification.py:1469: UndefinedMetricWarning: Precision and F-score are ill-defined and being set to 0.0 in labels with no predicted samples. Use `zero_division` parameter to control this behavior.\n",
      "  _warn_prf(average, modifier, msg_start, len(result))\n",
      "/Library/Frameworks/Python.framework/Versions/3.10/lib/python3.10/site-packages/sklearn/metrics/_classification.py:1469: UndefinedMetricWarning: Precision and F-score are ill-defined and being set to 0.0 in labels with no predicted samples. Use `zero_division` parameter to control this behavior.\n",
      "  _warn_prf(average, modifier, msg_start, len(result))\n",
      "/Library/Frameworks/Python.framework/Versions/3.10/lib/python3.10/site-packages/sklearn/metrics/_classification.py:1469: UndefinedMetricWarning: Precision and F-score are ill-defined and being set to 0.0 in labels with no predicted samples. Use `zero_division` parameter to control this behavior.\n",
      "  _warn_prf(average, modifier, msg_start, len(result))\n"
     ]
    }
   ],
   "source": [
    "# Initialize and train the SVM model\n",
    "svm_model = SVC(kernel='linear') \n",
    "svm_model.fit(X_train, y_train)\n",
    "\n",
    "# Evaluate the model\n",
    "y_pred_svm = svm_model.predict(X_test)\n",
    "print(classification_report(y_test, y_pred_svm))\n",
    "print(confusion_matrix(y_test, y_pred_svm))\n",
    "report_svm = classification_report(y_test, y_pred_svm, output_dict=True)"
   ]
  },
  {
   "cell_type": "markdown",
   "metadata": {},
   "source": [
    "Logistic Regression"
   ]
  },
  {
   "cell_type": "code",
   "execution_count": 7,
   "metadata": {},
   "outputs": [
    {
     "name": "stderr",
     "output_type": "stream",
     "text": [
      "/Library/Frameworks/Python.framework/Versions/3.10/lib/python3.10/site-packages/sklearn/utils/validation.py:1184: DataConversionWarning: A column-vector y was passed when a 1d array was expected. Please change the shape of y to (n_samples, ), for example using ravel().\n",
      "  y = column_or_1d(y, warn=True)\n",
      "/Library/Frameworks/Python.framework/Versions/3.10/lib/python3.10/site-packages/sklearn/metrics/_classification.py:1469: UndefinedMetricWarning: Precision and F-score are ill-defined and being set to 0.0 in labels with no predicted samples. Use `zero_division` parameter to control this behavior.\n",
      "  _warn_prf(average, modifier, msg_start, len(result))\n",
      "/Library/Frameworks/Python.framework/Versions/3.10/lib/python3.10/site-packages/sklearn/metrics/_classification.py:1469: UndefinedMetricWarning: Precision and F-score are ill-defined and being set to 0.0 in labels with no predicted samples. Use `zero_division` parameter to control this behavior.\n",
      "  _warn_prf(average, modifier, msg_start, len(result))\n",
      "/Library/Frameworks/Python.framework/Versions/3.10/lib/python3.10/site-packages/sklearn/metrics/_classification.py:1469: UndefinedMetricWarning: Precision and F-score are ill-defined and being set to 0.0 in labels with no predicted samples. Use `zero_division` parameter to control this behavior.\n",
      "  _warn_prf(average, modifier, msg_start, len(result))\n"
     ]
    },
    {
     "name": "stdout",
     "output_type": "stream",
     "text": [
      "              precision    recall  f1-score   support\n",
      "\n",
      "       0-300       0.66      1.00      0.79     15390\n",
      "     301-800       0.00      0.00      0.00      1126\n",
      "  4001-18000       0.00      0.00      0.00       233\n",
      "    801-4000       0.00      0.00      0.00      6668\n",
      "\n",
      "    accuracy                           0.66     23417\n",
      "   macro avg       0.16      0.25      0.20     23417\n",
      "weighted avg       0.43      0.66      0.52     23417\n",
      "\n",
      "[[15390     0     0     0]\n",
      " [ 1126     0     0     0]\n",
      " [  233     0     0     0]\n",
      " [ 6668     0     0     0]]\n"
     ]
    },
    {
     "name": "stderr",
     "output_type": "stream",
     "text": [
      "/Library/Frameworks/Python.framework/Versions/3.10/lib/python3.10/site-packages/sklearn/metrics/_classification.py:1469: UndefinedMetricWarning: Precision and F-score are ill-defined and being set to 0.0 in labels with no predicted samples. Use `zero_division` parameter to control this behavior.\n",
      "  _warn_prf(average, modifier, msg_start, len(result))\n",
      "/Library/Frameworks/Python.framework/Versions/3.10/lib/python3.10/site-packages/sklearn/metrics/_classification.py:1469: UndefinedMetricWarning: Precision and F-score are ill-defined and being set to 0.0 in labels with no predicted samples. Use `zero_division` parameter to control this behavior.\n",
      "  _warn_prf(average, modifier, msg_start, len(result))\n",
      "/Library/Frameworks/Python.framework/Versions/3.10/lib/python3.10/site-packages/sklearn/metrics/_classification.py:1469: UndefinedMetricWarning: Precision and F-score are ill-defined and being set to 0.0 in labels with no predicted samples. Use `zero_division` parameter to control this behavior.\n",
      "  _warn_prf(average, modifier, msg_start, len(result))\n"
     ]
    }
   ],
   "source": [
    "# Initialize and train the Logistic Regression model\n",
    "log_reg = LogisticRegression(multi_class='ovr')  # 'ovr' for One-vs-Rest strategy\n",
    "log_reg.fit(X_train, y_train)\n",
    "\n",
    "# Evaluate the model\n",
    "y_pred_lr = log_reg.predict(X_test)\n",
    "print(classification_report(y_test, y_pred_lr))\n",
    "print(confusion_matrix(y_test, y_pred_lr))\n",
    "report_lr = classification_report(y_test, y_pred_lr, output_dict=True)"
   ]
  },
  {
   "cell_type": "code",
   "execution_count": 8,
   "metadata": {},
   "outputs": [
    {
     "data": {
      "image/png": "[encoded data removed]",
      "text/plain": [
       "<Figure size 640x480 with 1 Axes>"
      ]
     },
     "metadata": {},
     "output_type": "display_data"
    }
   ],
   "source": [
    "import numpy as np\n",
    "import matplotlib.pyplot as plt\n",
    "\n",
    "# Assuming report_rf, report_svm, report_lr are dictionaries with F1 scores for models\n",
    "# Example structure: {'0-300': {'f1-score': 0.9}, '301-800': {'f1-score': 0.8}, ...}\n",
    "\n",
    "categories = ['0-300', '301-800', '801-4000', '4001-18000']\n",
    "f1_scores_by_model = {'Random Forest': [],  'Logistic': []}\n",
    "\n",
    "# Fill the scores for each model\n",
    "for category in categories:\n",
    "    f1_scores_by_model['Random Forest'].append(report_rf[category]['f1-score'])\n",
    "    f1_scores_by_model['Logistic'].append(report_lr[category]['f1-score'])\n",
    "\n",
    "# Number of groups and bar width\n",
    "n_groups = len(categories)\n",
    "bar_width = 0.2\n",
    "\n",
    "# Create plot\n",
    "fig, ax = plt.subplots()\n",
    "index = np.arange(n_groups)\n",
    "\n",
    "# Plotting each set of bars for each model\n",
    "for i, (model_name, scores) in enumerate(f1_scores_by_model.items()):\n",
    "    ax.bar(index + i * bar_width, scores, bar_width, label=model_name)\n",
    "\n",
    "# Set labels, title, and ticks\n",
    "ax.set_xlabel('Category')\n",
    "ax.set_ylabel('F1-Score')\n",
    "ax.set_title('F1-Score by Model (Random)')\n",
    "ax.set_xticks(index + bar_width)\n",
    "ax.set_xticklabels(categories)\n",
    "\n",
    "# Add legend\n",
    "ax.legend(title=\"Model\")\n",
    "\n",
    "# Other plot settings\n",
    "plt.tight_layout()\n",
    "plt.show()\n"
   ]
  },
  {
   "cell_type": "markdown",
   "metadata": {},
   "source": []
  },
  {
   "cell_type": "markdown",
   "metadata": {},
   "source": [
    "**Regression**"
   ]
  },
  {
   "cell_type": "markdown",
   "metadata": {},
   "source": [
    "Random Forest Regressor"
   ]
  },
  {
   "cell_type": "code",
   "execution_count": 19,
   "metadata": {},
   "outputs": [
    {
     "name": "stderr",
     "output_type": "stream",
     "text": [
      "/Library/Frameworks/Python.framework/Versions/3.10/lib/python3.10/site-packages/sklearn/base.py:1151: DataConversionWarning: A column-vector y was passed when a 1d array was expected. Please change the shape of y to (n_samples,), for example using ravel().\n",
      "  return fit_method(estimator, *args, **kwargs)\n"
     ]
    },
    {
     "name": "stdout",
     "output_type": "stream",
     "text": [
      "Random Forest MSE: 1018322.0257841749\n",
      "Random Forest R2: 0.03527431590869878\n"
     ]
    }
   ],
   "source": [
    "rf_reg = RandomForestRegressor()\n",
    "rf_reg.fit(X_train, y_reg_train)\n",
    "y_rfreg_pred = rf_reg.predict(X_test)\n",
    "mse_rf = mean_squared_error(y_reg_test, y_rfreg_pred)\n",
    "r2_rf = r2_score(y_reg_test, y_rfreg_pred)\n",
    "print(\"Random Forest MSE:\", mse_rf)\n",
    "print(\"Random Forest R2:\", r2_rf)\n"
   ]
  },
  {
   "cell_type": "markdown",
   "metadata": {},
   "source": [
    "Linear Regression"
   ]
  },
  {
   "cell_type": "code",
   "execution_count": 16,
   "metadata": {},
   "outputs": [
    {
     "name": "stdout",
     "output_type": "stream",
     "text": [
      "Linear Regression MSE: 1013798.3827928378\n",
      "Linear Regression R2: 0.03955987044734488\n"
     ]
    }
   ],
   "source": [
    "linear_reg = LinearRegression()\n",
    "linear_reg.fit(X_train, y_reg_train)\n",
    "y_pred_linear = linear_reg.predict(X_test)\n",
    "mse_linear = mean_squared_error(y_reg_test, y_pred_linear)\n",
    "r2_linear = r2_score(y_reg_test, y_pred_linear)\n",
    "\n",
    "print(\"Linear Regression MSE:\", mse_linear)\n",
    "print(\"Linear Regression R2:\", r2_linear)"
   ]
  },
  {
   "cell_type": "markdown",
   "metadata": {},
   "source": [
    "Gradient Boosting Regressor"
   ]
  },
  {
   "cell_type": "code",
   "execution_count": 20,
   "metadata": {},
   "outputs": [
    {
     "name": "stderr",
     "output_type": "stream",
     "text": [
      "/Library/Frameworks/Python.framework/Versions/3.10/lib/python3.10/site-packages/sklearn/ensemble/_gb.py:424: DataConversionWarning: A column-vector y was passed when a 1d array was expected. Please change the shape of y to (n_samples, ), for example using ravel().\n",
      "  y = column_or_1d(y, warn=True)\n"
     ]
    },
    {
     "name": "stdout",
     "output_type": "stream",
     "text": [
      "Gradient Boosting Regressor MSE: 748602.9155200239\n",
      "Gradient Boosting Regressor R2: 0.29079756550325153\n"
     ]
    }
   ],
   "source": [
    "gb_reg = GradientBoostingRegressor()\n",
    "gb_reg.fit(X_train, y_reg_train)\n",
    "y_pred_gb = gb_reg.predict(X_test)\n",
    "mse_gb = mean_squared_error(y_reg_test, y_pred_gb)\n",
    "r2_gb = r2_score(y_reg_test, y_pred_gb)\n",
    "\n",
    "print(\"Gradient Boosting Regressor MSE:\", mse_gb)\n",
    "print(\"Gradient Boosting Regressor R2:\", r2_gb)"
   ]
  }
 ],
 "metadata": {
  "kernelspec": {
   "display_name": "Python 3 (ipykernel)",
   "language": "python",
   "name": "python3"
  },
  "language_info": {
   "codemirror_mode": {
    "name": "ipython",
    "version": 3
   },
   "file_extension": ".py",
   "mimetype": "text/x-python",
   "name": "python",
   "nbconvert_exporter": "python",
   "pygments_lexer": "ipython3",
   "version": "3.10.11"
  }
 },
 "nbformat": 4,
 "nbformat_minor": 5
}
